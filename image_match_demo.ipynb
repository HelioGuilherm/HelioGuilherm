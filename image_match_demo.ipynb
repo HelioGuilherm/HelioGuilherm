{
 "metadata": {
  "name": ""
 },
 "nbformat": 3,
 "nbformat_minor": 0,
 "worksheets": [
  {
   "cells": [
    {
     "cell_type": "heading",
     "level": 1,
     "metadata": {},
     "source": [
      "Image match demo"
     ]
    },
    {
     "cell_type": "markdown",
     "metadata": {},
     "source": [
      "Welcome to the image match demo notebook! I assume you've already downloaded the example images and set up the database (just run $python demo_setup.py and you're good to go).  This will show you how the image signature generation works, and how images are stored in a database."
     ]
    },
    {
     "cell_type": "markdown",
     "metadata": {},
     "source": [
      "Enable inline plotting:"
     ]
    },
    {
     "cell_type": "code",
     "collapsed": false,
     "input": [
      "%matplotlib inline"
     ],
     "language": "python",
     "metadata": {},
     "outputs": []
    },
    {
     "cell_type": "markdown",
     "metadata": {},
     "source": [
      "External libraries we'll need:"
     ]
    },
    {
     "cell_type": "code",
     "collapsed": false,
     "input": [
      "import pymongo\n",
      "import numpy as np\n",
      "from skimage.io import imread, imshow, imsave\n",
      "from skimage.data import lena"
     ],
     "language": "python",
     "metadata": {},
     "outputs": []
    },
    {
     "cell_type": "markdown",
     "metadata": {},
     "source": [
      "The classes from the image match project that we'll need:"
     ]
    },
    {
     "cell_type": "code",
     "collapsed": false,
     "input": [
      "from source.goldberg import ImageSignature\n",
      "from source.signature_database import SignatureCollection"
     ],
     "language": "python",
     "metadata": {},
     "outputs": []
    },
    {
     "cell_type": "heading",
     "level": 2,
     "metadata": {},
     "source": [
      "Signature Generation"
     ]
    },
    {
     "cell_type": "markdown",
     "metadata": {},
     "source": [
      "Let's import and save an image to use in this example:"
     ]
    },
    {
     "cell_type": "code",
     "collapsed": false,
     "input": [
      "lena_path = 'lena.png'\n",
      "imsave(lena_path, lena())"
     ],
     "language": "python",
     "metadata": {},
     "outputs": []
    },
    {
     "cell_type": "code",
     "collapsed": false,
     "input": [
      "imshow(lena())"
     ],
     "language": "python",
     "metadata": {},
     "outputs": []
    },
    {
     "cell_type": "markdown",
     "metadata": {},
     "source": [
      "Instantiate an image signature object with the default values:"
     ]
    },
    {
     "cell_type": "code",
     "collapsed": false,
     "input": [
      "gis = ImageSignature()"
     ],
     "language": "python",
     "metadata": {},
     "outputs": []
    },
    {
     "cell_type": "markdown",
     "metadata": {},
     "source": [
      "All the following steps can be accomplished with a single call, but I've split them out here to demonstrate how the image signature generation works.\n",
      "\n",
      "The first step is to load and greyscale the image:"
     ]
    },
    {
     "cell_type": "code",
     "collapsed": false,
     "input": [
      "greyscaled = gis.preprocess_image(lena_path)\n",
      "imshow(greyscaled)"
     ],
     "language": "python",
     "metadata": {},
     "outputs": []
    },
    {
     "cell_type": "markdown",
     "metadata": {},
     "source": [
      "Next, we crop the image to 90% variance, and impose a grid (default 9x9):"
     ]
    },
    {
     "cell_type": "code",
     "collapsed": false,
     "input": [
      "#determine the new limits\n",
      "image_limits = gis.crop_image(greyscaled)"
     ],
     "language": "python",
     "metadata": {},
     "outputs": []
    },
    {
     "cell_type": "code",
     "collapsed": false,
     "input": [
      "#generate grid points\n",
      "x_coords, y_coords = gis.compute_grid_points(greyscaled, window=image_limits)"
     ],
     "language": "python",
     "metadata": {},
     "outputs": []
    },
    {
     "cell_type": "code",
     "collapsed": false,
     "input": [
      "from itertools import product\n",
      "coord_list = []\n",
      "for coord in product(x_coords, y_coords):\n",
      "    coord_list.append(coord)"
     ],
     "language": "python",
     "metadata": {},
     "outputs": []
    },
    {
     "cell_type": "code",
     "collapsed": false,
     "input": [
      "#super-impose grid points on image for this demonstration\n",
      "greyscaled_with_grid_points = greyscaled.copy()\n",
      "for coord in coord_list:\n",
      "    greyscaled_with_grid_points[coord[0]-3:coord[0]+3][:, coord[1]-3:coord[1]+3]=1.0"
     ],
     "language": "python",
     "metadata": {},
     "outputs": []
    },
    {
     "cell_type": "code",
     "collapsed": false,
     "input": [
      "imshow(greyscaled_with_grid_points)"
     ],
     "language": "python",
     "metadata": {},
     "outputs": []
    },
    {
     "cell_type": "markdown",
     "metadata": {},
     "source": [
      "Now, at each grid point, find the average grey-level in a small PxP region surrounding the point:"
     ]
    },
    {
     "cell_type": "code",
     "collapsed": false,
     "input": [
      "avg_grey=gis.compute_mean_level(greyscaled, x_coords, y_coords)\n",
      "imshow(avg_grey)"
     ],
     "language": "python",
     "metadata": {},
     "outputs": []
    },
    {
     "cell_type": "markdown",
     "metadata": {},
     "source": [
      "Now, we need to compute the differences between each grid point, in each direction.  The plot below shows the original grid in the center, with neighbor differences in corresponding positions (e.g., the top-center grid shows the difference between each pixel and its upward neighbor). Notice that the edges are set to zero, as the extreme pixels have no outer neighbors."
     ]
    },
    {
     "cell_type": "code",
     "collapsed": false,
     "input": [
      "diff_mat = gis.compute_differentials(avg_grey)"
     ],
     "language": "python",
     "metadata": {},
     "outputs": []
    },
    {
     "cell_type": "code",
     "collapsed": false,
     "input": [
      "import matplotlib.pyplot as plt\n",
      "plt.subplot(3,3,1)\n",
      "imshow(diff_mat[:,:,0])\n",
      "plt.subplot(3,3,2)\n",
      "imshow(diff_mat[:,:,1])\n",
      "plt.subplot(3,3,3)\n",
      "imshow(diff_mat[:,:,2])\n",
      "plt.subplot(3,3,4)\n",
      "imshow(diff_mat[:,:,3])\n",
      "plt.subplot(3,3,5)\n",
      "imshow(avg_grey)\n",
      "plt.subplot(3,3,6)\n",
      "imshow(diff_mat[:,:,4])\n",
      "plt.subplot(3,3,7)\n",
      "imshow(diff_mat[:,:,5])\n",
      "plt.subplot(3,3,8)\n",
      "imshow(diff_mat[:,:,6])\n",
      "plt.subplot(3,3,9)\n",
      "imshow(diff_mat[:,:,7])"
     ],
     "language": "python",
     "metadata": {},
     "outputs": []
    },
    {
     "cell_type": "markdown",
     "metadata": {},
     "source": [
      "For the penultimate step, we threshold the differences so that values are just a few integers (-2,-1,0,1,2). Again, the original, unthresholded grid appears in the middle:"
     ]
    },
    {
     "cell_type": "code",
     "collapsed": false,
     "input": [
      "gis.normalize_and_threshold(diff_mat)\n",
      "plt.subplot(3,3,1)\n",
      "imshow(diff_mat[:,:,0])\n",
      "plt.subplot(3,3,2)\n",
      "imshow(diff_mat[:,:,1])\n",
      "plt.subplot(3,3,3)\n",
      "imshow(diff_mat[:,:,2])\n",
      "plt.subplot(3,3,4)\n",
      "imshow(diff_mat[:,:,3])\n",
      "plt.subplot(3,3,5)\n",
      "imshow(avg_grey)\n",
      "plt.subplot(3,3,6)\n",
      "imshow(diff_mat[:,:,4])\n",
      "plt.subplot(3,3,7)\n",
      "imshow(diff_mat[:,:,5])\n",
      "plt.subplot(3,3,8)\n",
      "imshow(diff_mat[:,:,6])\n",
      "plt.subplot(3,3,9)\n",
      "imshow(diff_mat[:,:,7])"
     ],
     "language": "python",
     "metadata": {},
     "outputs": []
    },
    {
     "cell_type": "markdown",
     "metadata": {},
     "source": [
      "Finally, all the thresholded arrays are flattened and the signature is formed."
     ]
    },
    {
     "cell_type": "code",
     "collapsed": false,
     "input": [
      "signature = np.ravel(diff_mat).astype('int8')"
     ],
     "language": "python",
     "metadata": {},
     "outputs": []
    },
    {
     "cell_type": "markdown",
     "metadata": {},
     "source": [
      "Of course, in the actual implementation, this is all combined into one call:"
     ]
    },
    {
     "cell_type": "code",
     "collapsed": false,
     "input": [
      "%timeit signature = gis.generate_signature(lena_path)"
     ],
     "language": "python",
     "metadata": {},
     "outputs": []
    },
    {
     "cell_type": "heading",
     "level": 2,
     "metadata": {},
     "source": [
      "The Database"
     ]
    },
    {
     "cell_type": "markdown",
     "metadata": {},
     "source": [
      "First, let's load the relevant collection using the PyMongo API:"
     ]
    },
    {
     "cell_type": "code",
     "collapsed": false,
     "input": [
      "client = pymongo.MongoClient()\n",
      "db = client['image_match']\n",
      "c = db['oxford_signatures']"
     ],
     "language": "python",
     "metadata": {},
     "outputs": []
    },
    {
     "cell_type": "markdown",
     "metadata": {},
     "source": [
      "Instantiate the signature collection object:"
     ]
    },
    {
     "cell_type": "code",
     "collapsed": false,
     "input": [
      "sc = SignatureCollection(c)"
     ],
     "language": "python",
     "metadata": {},
     "outputs": []
    },
    {
     "cell_type": "markdown",
     "metadata": {},
     "source": [
      "If your database built correctly, there should be 5063 records:"
     ]
    },
    {
     "cell_type": "code",
     "collapsed": false,
     "input": [
      "sc.collection.count()"
     ],
     "language": "python",
     "metadata": {},
     "outputs": []
    },
    {
     "cell_type": "markdown",
     "metadata": {},
     "source": [
      "Build a finding iterator, and search exhaustively. Not surprisingly, no matches found:"
     ]
    },
    {
     "cell_type": "code",
     "collapsed": false,
     "input": [
      "s = sc.parallel_find(lena_path)\n",
      "reduce(lambda x,y: x + y, [x for x in list(s) if len(x) > 0])"
     ],
     "language": "python",
     "metadata": {},
     "outputs": []
    },
    {
     "cell_type": "code",
     "collapsed": false,
     "input": [
      "res[0].extend(res[1])"
     ],
     "language": "python",
     "metadata": {},
     "outputs": []
    },
    {
     "cell_type": "markdown",
     "metadata": {},
     "source": [
      "If we add the Lena image, it's located handily! The decimal number in the returned tuple is the normalized euclidean distance between signatures -- here it's zero, as this is the identical image:"
     ]
    },
    {
     "cell_type": "code",
     "collapsed": false,
     "input": [
      "sc.add_image(lena_path)"
     ],
     "language": "python",
     "metadata": {},
     "outputs": []
    },
    {
     "cell_type": "code",
     "collapsed": false,
     "input": [
      "def test(path):\n",
      "    s = sc.parallel_find(lena_path)\n",
      "    while True:\n",
      "        result = s.next()\n",
      "        if len(result) > 0:\n",
      "            return result"
     ],
     "language": "python",
     "metadata": {},
     "outputs": []
    },
    {
     "cell_type": "code",
     "collapsed": false,
     "input": [
      "%timeit test(lena_path)"
     ],
     "language": "python",
     "metadata": {},
     "outputs": []
    },
    {
     "cell_type": "markdown",
     "metadata": {},
     "source": [
      "Let's add some similar images:"
     ]
    },
    {
     "cell_type": "code",
     "collapsed": false,
     "input": [
      "from urllib import urlretrieve\n",
      "urlretrieve('http://upload.wikimedia.org/wikipedia/en/2/24/Lenna.png', 'lena-1.png');\n",
      "urlretrieve('http://3.bp.blogspot.com/_f3d3llNlZKQ/SxrJWGZywvI/AAAAAAAABg0/2rV7MNks1lw/s72-c/Prova.jpg', 'lena-2.jpg');\n",
      "urlretrieve('http://www.malcolmmclean.site11.com/www/BinaryImageProcessing/lenaOtsu.gif', 'lena-3.gif');\n",
      "urlretrieve('http://hyperspy.org/hyperspy-doc/current/_images/split_lena_3_3.png', 'lena-4.png');"
     ],
     "language": "python",
     "metadata": {},
     "outputs": []
    },
    {
     "cell_type": "code",
     "collapsed": false,
     "input": [
      "plt.subplot(3,2,1)\n",
      "imshow(imread('lena-1.png'))\n",
      "plt.subplot(3,2,2)\n",
      "imshow(imread('lena-2.jpg'))\n",
      "plt.subplot(3,2,3)\n",
      "imshow(imread('lena-3.gif'))\n",
      "plt.subplot(3,2,4)\n",
      "imshow(imread('lena-4.png'))"
     ],
     "language": "python",
     "metadata": {},
     "outputs": []
    },
    {
     "cell_type": "code",
     "collapsed": false,
     "input": [
      "from source.signature_database import normalized_distance\n",
      "a = gis.generate_signature(lena_path)\n",
      "b = gis.generate_signature('lena-2.jpg')\n",
      "normalized_distance([a], b)[0]"
     ],
     "language": "python",
     "metadata": {},
     "outputs": []
    },
    {
     "cell_type": "code",
     "collapsed": false,
     "input": [
      "sc.add_image('lena-1.png')\n",
      "sc.add_image('lena-2.jpg')\n",
      "sc.add_image('lena-3.gif')\n",
      "sc.add_image('lena-4.png')"
     ],
     "language": "python",
     "metadata": {},
     "outputs": []
    },
    {
     "cell_type": "code",
     "collapsed": false,
     "input": [
      "sc.distance_cutoff = 0.5\n",
      "s = sc.parallel_find(lena_path)"
     ],
     "language": "python",
     "metadata": {},
     "outputs": []
    },
    {
     "cell_type": "code",
     "collapsed": false,
     "input": [
      "s.next()"
     ],
     "language": "python",
     "metadata": {},
     "outputs": []
    },
    {
     "cell_type": "markdown",
     "metadata": {},
     "source": [
      "The match finder gets everything but the image with the colorbar.  The cropping method is not terribly robust yet. The default distance cutoff is 0.5:"
     ]
    },
    {
     "cell_type": "code",
     "collapsed": false,
     "input": [
      "s = sc.parallel_find(lena_path)\n",
      "res = reduce(lambda x,y: x + y, [x for x in list(s) if len(x) > 0])\n",
      "res"
     ],
     "language": "python",
     "metadata": {},
     "outputs": []
    },
    {
     "cell_type": "markdown",
     "metadata": {},
     "source": [
      "Raising the distance cutoff doesn't help and leads to some false positives:"
     ]
    },
    {
     "cell_type": "code",
     "collapsed": false,
     "input": [
      "sc.distance_cutoff = 0.6"
     ],
     "language": "python",
     "metadata": {},
     "outputs": []
    },
    {
     "cell_type": "code",
     "collapsed": false,
     "input": [
      "s = sc.parallel_find(lena_path)\n",
      "reduce(lambda x,y: x + y, [x for x in list(s) if len(x) > 0])"
     ],
     "language": "python",
     "metadata": {},
     "outputs": []
    },
    {
     "cell_type": "markdown",
     "metadata": {},
     "source": [
      "Let's reset the cutoff and try another image:"
     ]
    },
    {
     "cell_type": "code",
     "collapsed": false,
     "input": [
      "sc.distance_cutoff = 0.5\n",
      "oxford_arch_path = 'oxbuild_images/all_souls_000002.jpg'\n",
      "imshow(imread(oxford_arch_path))"
     ],
     "language": "python",
     "metadata": {},
     "outputs": []
    },
    {
     "cell_type": "code",
     "collapsed": false,
     "input": [
      "s = sc.parallel_find(oxford_arch_path)\n",
      "res = reduce(lambda x,y: x + y, [x for x in list(s) if len(x) > 0])"
     ],
     "language": "python",
     "metadata": {},
     "outputs": []
    },
    {
     "cell_type": "code",
     "collapsed": false,
     "input": [
      "res"
     ],
     "language": "python",
     "metadata": {},
     "outputs": []
    },
    {
     "cell_type": "code",
     "collapsed": false,
     "input": [
      "plt.subplot(1,3,1)\n",
      "imshow(imread(res[0][1]))\n",
      "plt.subplot(1,3,2)\n",
      "imshow(imread(res[1][1]))\n",
      "plt.subplot(1,3,3)\n",
      "imshow(imread(res[2][1]))"
     ],
     "language": "python",
     "metadata": {},
     "outputs": []
    },
    {
     "cell_type": "code",
     "collapsed": false,
     "input": [],
     "language": "python",
     "metadata": {},
     "outputs": []
    }
   ],
   "metadata": {}
  }
 ]
}